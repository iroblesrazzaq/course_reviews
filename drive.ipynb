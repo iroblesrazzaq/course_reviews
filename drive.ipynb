{
 "cells": [
  {
   "cell_type": "markdown",
   "id": "d2776789",
   "metadata": {},
   "source": [
    "### standardized name format?\n",
    "\n",
    "f\"{program name}, {course number}, {teacher name}, {year}, {quarter}, {section}\""
   ]
  },
  {
   "cell_type": "code",
   "execution_count": 1,
   "id": "f45c5fae",
   "metadata": {},
   "outputs": [
    {
     "name": "stdout",
     "output_type": "stream",
     "text": [
      "Attempting to upload 'stat_222_yibi_huang_course_review.pdf' to folder '1pgZqcigGrwqPWdiZ0NUHmHRuA20iNHH7'...\n",
      "Checking if 'stat_222_yibi_huang_course_review.pdf' already exists in Drive folder ID '1pgZqcigGrwqPWdiZ0NUHmHRuA20iNHH7'...\n",
      "Uploading 'stat_222_yibi_huang_course_review.pdf' as 'stat_222_yibi_huang_course_review.pdf' to Drive folder ID '1pgZqcigGrwqPWdiZ0NUHmHRuA20iNHH7'...\n",
      "File uploaded successfully!\n",
      "  ID: 1OQXIJy6zzeJ5Nd4HTGE-FoccDAlEdNP4\n",
      "  Name: stat_222_yibi_huang_course_review.pdf\n",
      "  Link: https://drive.google.com/file/d/1OQXIJy6zzeJ5Nd4HTGE-FoccDAlEdNP4/view?usp=drivesdk\n",
      "\n",
      "--- Upload Summary ---\n",
      "Uploaded File ID: 1OQXIJy6zzeJ5Nd4HTGE-FoccDAlEdNP4\n",
      "Uploaded File Name: stat_222_yibi_huang_course_review.pdf\n",
      "View Link: https://drive.google.com/file/d/1OQXIJy6zzeJ5Nd4HTGE-FoccDAlEdNP4/view?usp=drivesdk\n"
     ]
    }
   ],
   "source": [
    "import os\n",
    "import pickle\n",
    "from google.auth.transport.requests import Request\n",
    "from google_auth_oauthlib.flow import InstalledAppFlow\n",
    "from googleapiclient.discovery import build\n",
    "from googleapiclient.http import MediaFileUpload\n",
    "from googleapiclient.errors import HttpError\n",
    "from typing import Any, Optional, Dict\n",
    "from drive_functions import get_drive_service, check_if_file_exists_in_drive_folder, upload_pdf_to_drive_folder"
   ]
  },
  {
   "cell_type": "code",
   "execution_count": 3,
   "id": "da598fac",
   "metadata": {},
   "outputs": [
    {
     "name": "stdout",
     "output_type": "stream",
     "text": [
      "Attempting to upload 'stat_222_yibi_huang_course_review.pdf' to folder '1pgZqcigGrwqPWdiZ0NUHmHRuA20iNHH7'...\n",
      "Checking if 'stat_222_yibi_huang_course_review.pdf' already exists in Drive folder ID '1pgZqcigGrwqPWdiZ0NUHmHRuA20iNHH7'...\n",
      "Uploading 'stat_222_yibi_huang_course_review.pdf' as 'stat_222_yibi_huang_course_review.pdf' to Drive folder ID '1pgZqcigGrwqPWdiZ0NUHmHRuA20iNHH7'...\n",
      "File uploaded successfully!\n",
      "  ID: 1Y9xuatXqq9GuC4cui1X79SPYACsTr1hb\n",
      "  Name: stat_222_yibi_huang_course_review.pdf\n",
      "  Link: https://drive.google.com/file/d/1Y9xuatXqq9GuC4cui1X79SPYACsTr1hb/view?usp=drivesdk\n",
      "\n",
      "--- Upload Summary ---\n",
      "Uploaded File ID: 1Y9xuatXqq9GuC4cui1X79SPYACsTr1hb\n",
      "Uploaded File Name: stat_222_yibi_huang_course_review.pdf\n",
      "View Link: https://drive.google.com/file/d/1Y9xuatXqq9GuC4cui1X79SPYACsTr1hb/view?usp=drivesdk\n"
     ]
    }
   ],
   "source": [
    "TEST_PDF_PATH = \"stat_222_yibi_huang_course_review.pdf\"\n",
    "\n",
    "TARGET_DRIVE_FOLDER_ID = \"1pgZqcigGrwqPWdiZ0NUHmHRuA20iNHH7\" # TODO: env secret?\n",
    "\n",
    "\n",
    "\n",
    "print(f\"Attempting to upload '{TEST_PDF_PATH}' to folder '{TARGET_DRIVE_FOLDER_ID}'...\")\n",
    "uploaded_file_info = upload_pdf_to_drive_folder(\n",
    "    local_pdf_path=TEST_PDF_PATH,\n",
    "    drive_folder_id=TARGET_DRIVE_FOLDER_ID,\n",
    "    new_filename=\"stat_222_yibi_huang_course_review.pdf\" # Optional: custom name in Drive\n",
    ")\n",
    "\n",
    "if uploaded_file_info:\n",
    "    print(\"\\n--- Upload Summary ---\")\n",
    "    print(f\"Uploaded File ID: {uploaded_file_info.get('id')}\")\n",
    "    print(f\"Uploaded File Name: {uploaded_file_info.get('name')}\")\n",
    "    print(f\"View Link: {uploaded_file_info.get('webViewLink')}\")\n",
    "else:\n",
    "    print(\"\\nUpload failed.\")"
   ]
  },
  {
   "cell_type": "code",
   "execution_count": null,
   "id": "f1a03954",
   "metadata": {},
   "outputs": [],
   "source": []
  }
 ],
 "metadata": {
  "kernelspec": {
   "display_name": "env1",
   "language": "python",
   "name": "python3"
  },
  "language_info": {
   "codemirror_mode": {
    "name": "ipython",
    "version": 3
   },
   "file_extension": ".py",
   "mimetype": "text/x-python",
   "name": "python",
   "nbconvert_exporter": "python",
   "pygments_lexer": "ipython3",
   "version": "3.12.1"
  }
 },
 "nbformat": 4,
 "nbformat_minor": 5
}
